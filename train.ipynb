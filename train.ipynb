{
 "cells": [
  {
   "cell_type": "code",
   "execution_count": 1,
   "metadata": {},
   "outputs": [
    {
     "name": "stdout",
     "output_type": "stream",
     "text": [
      "pygame 2.5.2 (SDL 2.28.3, Python 3.9.18)\n",
      "Hello from the pygame community. https://www.pygame.org/contribute.html\n"
     ]
    }
   ],
   "source": [
    "import numpy as np\n",
    "import pygame\n",
    "from squid_env import trainSquid, opponent\n",
    "\n",
    "\n",
    "from matplotlib import pyplot as plt\n",
    "from Q_learing import Q_learning\n",
    "from Q_learning_train import QLearningTraining\n",
    "from squid_env import trainSquid, opponent"
   ]
  },
  {
   "cell_type": "code",
   "execution_count": 2,
   "metadata": {},
   "outputs": [
    {
     "name": "stdout",
     "output_type": "stream",
     "text": [
      "episode: 0, reward: -29\n"
     ]
    },
    {
     "ename": "KeyboardInterrupt",
     "evalue": "",
     "output_type": "error",
     "traceback": [
      "\u001b[1;31m---------------------------------------------------------------------------\u001b[0m",
      "\u001b[1;31mKeyboardInterrupt\u001b[0m                         Traceback (most recent call last)",
      "Cell \u001b[1;32mIn[2], line 21\u001b[0m\n\u001b[0;32m     11\u001b[0m q_learning_trainer \u001b[38;5;241m=\u001b[39m QLearningTraining(\n\u001b[0;32m     12\u001b[0m     agent\u001b[38;5;241m=\u001b[39magent, \n\u001b[0;32m     13\u001b[0m     env\u001b[38;5;241m=\u001b[39menv, \n\u001b[1;32m   (...)\u001b[0m\n\u001b[0;32m     16\u001b[0m     gamma\u001b[38;5;241m=\u001b[39m\u001b[38;5;241m0.99\u001b[39m\n\u001b[0;32m     17\u001b[0m )\n\u001b[0;32m     20\u001b[0m \u001b[38;5;66;03m# 開始訓練\u001b[39;00m\n\u001b[1;32m---> 21\u001b[0m \u001b[43mq_learning_trainer\u001b[49m\u001b[38;5;241;43m.\u001b[39;49m\u001b[43mtrain\u001b[49m\u001b[43m(\u001b[49m\u001b[43m)\u001b[49m\n",
      "File \u001b[1;32mc:\\Users\\weiso131\\Desktop\\gameAI\\squid\\squid_AI_train\\Q_learning_train.py:38\u001b[0m, in \u001b[0;36mQLearningTraining.train\u001b[1;34m(self)\u001b[0m\n\u001b[0;32m     34\u001b[0m epsilon \u001b[38;5;241m=\u001b[39m \u001b[38;5;28mself\u001b[39m\u001b[38;5;241m.\u001b[39mLambda_epsilon(episode)\n\u001b[0;32m     37\u001b[0m \u001b[38;5;28;01mwhile\u001b[39;00m \u001b[38;5;28;01mTrue\u001b[39;00m:\n\u001b[1;32m---> 38\u001b[0m     \u001b[38;5;28;43mself\u001b[39;49m\u001b[38;5;241;43m.\u001b[39;49m\u001b[43menv\u001b[49m\u001b[38;5;241;43m.\u001b[39;49m\u001b[43mrender\u001b[49m\u001b[43m(\u001b[49m\u001b[43m)\u001b[49m\n\u001b[0;32m     39\u001b[0m     state1, state2 \u001b[38;5;241m=\u001b[39m \u001b[38;5;28mtuple\u001b[39m(state[\u001b[38;5;241m0\u001b[39m]), \u001b[38;5;28mtuple\u001b[39m(state[\u001b[38;5;241m1\u001b[39m])\n\u001b[0;32m     40\u001b[0m     action1 \u001b[38;5;241m=\u001b[39m \u001b[38;5;28mself\u001b[39m\u001b[38;5;241m.\u001b[39magent\u001b[38;5;241m.\u001b[39mstep(state1, epsilon)\n",
      "File \u001b[1;32mc:\\Users\\weiso131\\Desktop\\gameAI\\squid\\squid_AI_train\\squid_env.py:193\u001b[0m, in \u001b[0;36mtrainSquid.render\u001b[1;34m(self)\u001b[0m\n\u001b[0;32m    192\u001b[0m \u001b[38;5;28;01mdef\u001b[39;00m \u001b[38;5;21mrender\u001b[39m(\u001b[38;5;28mself\u001b[39m):\n\u001b[1;32m--> 193\u001b[0m     \u001b[43mpygame\u001b[49m\u001b[38;5;241;43m.\u001b[39;49m\u001b[43mtime\u001b[49m\u001b[38;5;241;43m.\u001b[39;49m\u001b[43mClock\u001b[49m\u001b[43m(\u001b[49m\u001b[43m)\u001b[49m\u001b[38;5;241;43m.\u001b[39;49m\u001b[43mtick_busy_loop\u001b[49m\u001b[43m(\u001b[49m\u001b[43mFPS\u001b[49m\u001b[43m)\u001b[49m\n\u001b[0;32m    194\u001b[0m     \u001b[38;5;28;01mtry\u001b[39;00m: \n\u001b[0;32m    195\u001b[0m         game_progress_data \u001b[38;5;241m=\u001b[39m \u001b[38;5;28mself\u001b[39m\u001b[38;5;241m.\u001b[39menv\u001b[38;5;241m.\u001b[39mget_scene_progress_data()\n",
      "\u001b[1;31mKeyboardInterrupt\u001b[0m: "
     ]
    }
   ],
   "source": [
    "if __name__ == '__main__':\n",
    "    agent = Q_learning((4, 4, 4, 4, 10, 10, 10), [\"LEFT\",\"RIGHT\", \"DOWN\", \"UP\"])\n",
    "\n",
    "\n",
    "\n",
    "    # 創建環境和 Q-learning 代理\n",
    "    env = trainSquid(level=8)  # 確保設定 render=False 進行訓練\n",
    "    episodes = 100\n",
    "\n",
    "    # 初始化訓練類\n",
    "    q_learning_trainer = QLearningTraining(\n",
    "        agent=agent, \n",
    "        env=env, \n",
    "        episodes=episodes, \n",
    "        initial_lr=1, \n",
    "        gamma=0.99\n",
    "    )\n",
    "\n",
    "\n",
    "    # 開始訓練\n",
    "    q_learning_trainer.train()\n",
    "\n",
    "\n"
   ]
  },
  {
   "cell_type": "code",
   "execution_count": 8,
   "metadata": {},
   "outputs": [],
   "source": [
    "def show():\n",
    "    get_point = [0, 0]\n",
    "    state, reward, terminated, truncated, _ = q_learning_trainer.env.reset()\n",
    "    while True:\n",
    "        q_learning_trainer.env.render()\n",
    "        commands = {\"1P\" : [q_learning_trainer.agent.step(tuple(state[0]), 0)],  \n",
    "                    \"2P\" : [opponent(tuple(state[1]))]}\n",
    "        \n",
    "\n",
    "        next_state, reward, terminated, truncated, _ = \\\n",
    "            q_learning_trainer.env.step(commands)\n",
    "        \n",
    "\n",
    "        state = next_state#感你娘機掰\n",
    "        \n",
    "        get_point[0] += reward[0]\n",
    "        get_point[1] += reward[1]\n",
    "        \n",
    "        if (terminated):\n",
    "            print(get_point)\n",
    "            break"
   ]
  },
  {
   "cell_type": "code",
   "execution_count": 13,
   "metadata": {},
   "outputs": [
    {
     "name": "stdout",
     "output_type": "stream",
     "text": [
      "[49, 89]\n",
      "[2, 43]\n",
      "[-4, 73]\n",
      "[0, 4]\n",
      "[0, 0]\n"
     ]
    }
   ],
   "source": [
    "q_learning_trainer.env = trainSquid(7)\n",
    "\n",
    "for i in range(5):\n",
    "    show()\n",
    "pygame.quit()"
   ]
  },
  {
   "cell_type": "code",
   "execution_count": 5,
   "metadata": {},
   "outputs": [],
   "source": [
    "import pickle\n",
    "with open(\"4wayPotential.pickle\", \"wb\") as f:\n",
    "    pickle.dump(q_learning_trainer.agent.Q_form, f)"
   ]
  },
  {
   "cell_type": "code",
   "execution_count": null,
   "metadata": {},
   "outputs": [],
   "source": [
    "q_learning_trainer.agent.end_shm()"
   ]
  }
 ],
 "metadata": {
  "kernelspec": {
   "display_name": "paia",
   "language": "python",
   "name": "python3"
  },
  "language_info": {
   "codemirror_mode": {
    "name": "ipython",
    "version": 3
   },
   "file_extension": ".py",
   "mimetype": "text/x-python",
   "name": "python",
   "nbconvert_exporter": "python",
   "pygments_lexer": "ipython3",
   "version": "3.9.18"
  }
 },
 "nbformat": 4,
 "nbformat_minor": 2
}
